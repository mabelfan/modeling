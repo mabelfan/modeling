{
 "cells": [
  {
   "cell_type": "markdown",
   "metadata": {},
   "source": [
    "# Movie recommender\n",
    "<br>\n",
    "## Dateset info\n",
    "This dataset (ml-latest-small) describes 5-star rating and free-text tagging activity from [MovieLens](http://movielens.org), a movie recommendation service. It contains 100836 ratings and 3683 tag applications across 9742 movies. These data were created by 610 users between March 29, 1996 and September 24, 2018. This dataset was generated on September 26, 2018.\n",
    "\n",
    "Users were selected at random for inclusion. All selected users had rated at least 20 movies. No demographic information is included. Each user is represented by an id, and no other information is provided."
   ]
  },
  {
   "cell_type": "code",
   "execution_count": 1,
   "metadata": {},
   "outputs": [],
   "source": [
    "import os\n",
    "import pandas as pd\n",
    "import numpy as np"
   ]
  },
  {
   "cell_type": "code",
   "execution_count": 2,
   "metadata": {},
   "outputs": [
    {
     "data": {
      "text/html": [
       "<div>\n",
       "<style scoped>\n",
       "    .dataframe tbody tr th:only-of-type {\n",
       "        vertical-align: middle;\n",
       "    }\n",
       "\n",
       "    .dataframe tbody tr th {\n",
       "        vertical-align: top;\n",
       "    }\n",
       "\n",
       "    .dataframe thead th {\n",
       "        text-align: right;\n",
       "    }\n",
       "</style>\n",
       "<table border=\"1\" class=\"dataframe\">\n",
       "  <thead>\n",
       "    <tr style=\"text-align: right;\">\n",
       "      <th></th>\n",
       "      <th>userId</th>\n",
       "      <th>movieId</th>\n",
       "      <th>rating</th>\n",
       "      <th>timestamp</th>\n",
       "    </tr>\n",
       "  </thead>\n",
       "  <tbody>\n",
       "    <tr>\n",
       "      <th>0</th>\n",
       "      <td>1</td>\n",
       "      <td>1</td>\n",
       "      <td>4.0</td>\n",
       "      <td>2000-07-30 18:45:03</td>\n",
       "    </tr>\n",
       "    <tr>\n",
       "      <th>1</th>\n",
       "      <td>1</td>\n",
       "      <td>3</td>\n",
       "      <td>4.0</td>\n",
       "      <td>2000-07-30 18:20:47</td>\n",
       "    </tr>\n",
       "    <tr>\n",
       "      <th>2</th>\n",
       "      <td>1</td>\n",
       "      <td>6</td>\n",
       "      <td>4.0</td>\n",
       "      <td>2000-07-30 18:37:04</td>\n",
       "    </tr>\n",
       "    <tr>\n",
       "      <th>3</th>\n",
       "      <td>1</td>\n",
       "      <td>47</td>\n",
       "      <td>5.0</td>\n",
       "      <td>2000-07-30 19:03:35</td>\n",
       "    </tr>\n",
       "    <tr>\n",
       "      <th>4</th>\n",
       "      <td>1</td>\n",
       "      <td>50</td>\n",
       "      <td>5.0</td>\n",
       "      <td>2000-07-30 18:48:51</td>\n",
       "    </tr>\n",
       "  </tbody>\n",
       "</table>\n",
       "</div>"
      ],
      "text/plain": [
       "   userId  movieId  rating           timestamp\n",
       "0       1        1     4.0 2000-07-30 18:45:03\n",
       "1       1        3     4.0 2000-07-30 18:20:47\n",
       "2       1        6     4.0 2000-07-30 18:37:04\n",
       "3       1       47     5.0 2000-07-30 19:03:35\n",
       "4       1       50     5.0 2000-07-30 18:48:51"
      ]
     },
     "execution_count": 2,
     "metadata": {},
     "output_type": "execute_result"
    }
   ],
   "source": [
    "data_folder = os.path.join(os.path.expanduser(\"~\"),\"Documents/Git/movie_recommender\",\"ml-latest-small\")\n",
    "ratings_filename = os.path.join(data_folder, \"ratings.csv\")\n",
    "\n",
    "ratings = pd.read_csv(ratings_filename)\n",
    "ratings[\"timestamp\"] = pd.to_datetime(ratings[\"timestamp\"],unit=\"s\")\n",
    "ratings[:5]"
   ]
  },
  {
   "cell_type": "markdown",
   "metadata": {},
   "source": [
    "### Apriori algorithm\n",
    "target: to find rules like {if users like those movies -> they will like the movie}.  "
   ]
  },
  {
   "cell_type": "markdown",
   "metadata": {},
   "source": [
    "create new feature: <span style=\"color:blue\">*favorable*</span>, assuming that users like the movie if they rated it more than 3."
   ]
  },
  {
   "cell_type": "code",
   "execution_count": 3,
   "metadata": {},
   "outputs": [
    {
     "data": {
      "text/html": [
       "<div>\n",
       "<style scoped>\n",
       "    .dataframe tbody tr th:only-of-type {\n",
       "        vertical-align: middle;\n",
       "    }\n",
       "\n",
       "    .dataframe tbody tr th {\n",
       "        vertical-align: top;\n",
       "    }\n",
       "\n",
       "    .dataframe thead th {\n",
       "        text-align: right;\n",
       "    }\n",
       "</style>\n",
       "<table border=\"1\" class=\"dataframe\">\n",
       "  <thead>\n",
       "    <tr style=\"text-align: right;\">\n",
       "      <th></th>\n",
       "      <th>userId</th>\n",
       "      <th>movieId</th>\n",
       "      <th>rating</th>\n",
       "      <th>timestamp</th>\n",
       "      <th>favorable</th>\n",
       "    </tr>\n",
       "  </thead>\n",
       "  <tbody>\n",
       "    <tr>\n",
       "      <th>90762</th>\n",
       "      <td>590</td>\n",
       "      <td>1732</td>\n",
       "      <td>4.0</td>\n",
       "      <td>2009-11-17 01:23:23</td>\n",
       "      <td>True</td>\n",
       "    </tr>\n",
       "    <tr>\n",
       "      <th>94776</th>\n",
       "      <td>599</td>\n",
       "      <td>80880</td>\n",
       "      <td>2.5</td>\n",
       "      <td>2017-06-26 22:32:29</td>\n",
       "      <td>False</td>\n",
       "    </tr>\n",
       "    <tr>\n",
       "      <th>48130</th>\n",
       "      <td>312</td>\n",
       "      <td>2105</td>\n",
       "      <td>3.0</td>\n",
       "      <td>2003-01-21 19:21:04</td>\n",
       "      <td>False</td>\n",
       "    </tr>\n",
       "  </tbody>\n",
       "</table>\n",
       "</div>"
      ],
      "text/plain": [
       "       userId  movieId  rating           timestamp  favorable\n",
       "90762     590     1732     4.0 2009-11-17 01:23:23       True\n",
       "94776     599    80880     2.5 2017-06-26 22:32:29      False\n",
       "48130     312     2105     3.0 2003-01-21 19:21:04      False"
      ]
     },
     "execution_count": 3,
     "metadata": {},
     "output_type": "execute_result"
    }
   ],
   "source": [
    "ratings[\"favorable\"] = ratings[\"rating\"] > 3\n",
    "ratings.sample(3)"
   ]
  },
  {
   "cell_type": "markdown",
   "metadata": {},
   "source": [
    "choose part of the data as training_dataset to reduce the search space, thus boost the speed of Apriori algorithm."
   ]
  },
  {
   "cell_type": "code",
   "execution_count": 4,
   "metadata": {},
   "outputs": [],
   "source": [
    "sub_ratings = ratings[ratings[\"userId\"].isin(range(200))]\n",
    "favorable_ratings = sub_ratings[sub_ratings[\"favorable\"]]\n",
    "favorable_reviews_by_users = dict((k, frozenset(v.values))    # store v.values in frozenset\n",
    "                                 for k,v in favorable_ratings.groupby(\"userId\")[\"movieId\"])"
   ]
  },
  {
   "cell_type": "code",
   "execution_count": 5,
   "metadata": {},
   "outputs": [
    {
     "data": {
      "text/html": [
       "<div>\n",
       "<style scoped>\n",
       "    .dataframe tbody tr th:only-of-type {\n",
       "        vertical-align: middle;\n",
       "    }\n",
       "\n",
       "    .dataframe tbody tr th {\n",
       "        vertical-align: top;\n",
       "    }\n",
       "\n",
       "    .dataframe thead th {\n",
       "        text-align: right;\n",
       "    }\n",
       "</style>\n",
       "<table border=\"1\" class=\"dataframe\">\n",
       "  <thead>\n",
       "    <tr style=\"text-align: right;\">\n",
       "      <th></th>\n",
       "      <th>favorable</th>\n",
       "    </tr>\n",
       "    <tr>\n",
       "      <th>movieId</th>\n",
       "      <th></th>\n",
       "    </tr>\n",
       "  </thead>\n",
       "  <tbody>\n",
       "    <tr>\n",
       "      <th>318</th>\n",
       "      <td>95.0</td>\n",
       "    </tr>\n",
       "    <tr>\n",
       "      <th>356</th>\n",
       "      <td>88.0</td>\n",
       "    </tr>\n",
       "    <tr>\n",
       "      <th>296</th>\n",
       "      <td>79.0</td>\n",
       "    </tr>\n",
       "    <tr>\n",
       "      <th>593</th>\n",
       "      <td>77.0</td>\n",
       "    </tr>\n",
       "    <tr>\n",
       "      <th>260</th>\n",
       "      <td>71.0</td>\n",
       "    </tr>\n",
       "  </tbody>\n",
       "</table>\n",
       "</div>"
      ],
      "text/plain": [
       "         favorable\n",
       "movieId           \n",
       "318           95.0\n",
       "356           88.0\n",
       "296           79.0\n",
       "593           77.0\n",
       "260           71.0"
      ]
     },
     "execution_count": 5,
     "metadata": {},
     "output_type": "execute_result"
    }
   ],
   "source": [
    "num_favorable_by_movie = sub_ratings[[\"movieId\", \"favorable\"]].groupby(\"movieId\").sum()\n",
    "num_favorable_by_movie.sort_values(by=\"favorable\", ascending=False)[:5]"
   ]
  },
  {
   "cell_type": "code",
   "execution_count": 6,
   "metadata": {},
   "outputs": [],
   "source": [
    "freq_itemsets = {}\n",
    "min_sup = 50\n",
    "freq_itemsets[1] = dict((frozenset((movie_id,)), \n",
    "                         row[\"favorable\"])\n",
    "                        for movie_id, row in num_favorable_by_movie.iterrows()\n",
    "                        if row[\"favorable\"] > min_sup)"
   ]
  },
  {
   "cell_type": "code",
   "execution_count": 7,
   "metadata": {},
   "outputs": [],
   "source": [
    "from collections import defaultdict\n",
    "\n",
    "def find_freq_itemsets(favorable_reviews_by_users, k_1_itemsets, min_sup):\n",
    "    counts = defaultdict(int)\n",
    "    for user, reviews in favorable_reviews_by_users.items():    # reviews is set\n",
    "        for itemset in k_1_itemsets:\n",
    "            if itemset.issubset(reviews):\n",
    "                for other in reviews - itemset:\n",
    "                    current_superset = itemset | frozenset((other,))  # \"|\" is an union symbol for sets\n",
    "                    counts[current_superset] += 1\n",
    "    return dict([(itemset, freq) for itemset,freq in counts.items() if freq >= min_sup])"
   ]
  },
  {
   "cell_type": "markdown",
   "metadata": {},
   "source": [
    "First, check each k_1 itemset whether it is subset of each user's rated as favorable movies, if yes, then add the rest favorable movives one by one to form k itemsets, and count the frequency at the same time, choose the k itemset of which the frequency is more than min_support and store them is dictionary.   "
   ]
  },
  {
   "cell_type": "code",
   "execution_count": 8,
   "metadata": {},
   "outputs": [
    {
     "name": "stdout",
     "output_type": "stream",
     "text": [
      "I found 145 frequent itemsets of length 2\n",
      "I found 508 frequent itemsets of length 3\n",
      "I found 989 frequent itemsets of length 4\n",
      "I found 1146 frequent itemsets of length 5\n",
      "I found 811 frequent itemsets of length 6\n",
      "I found 338 frequent itemsets of length 7\n",
      "I found 73 frequent itemsets of length 8\n",
      "I found 5 frequent itemsets of length 9\n",
      "Did not find any frequent itemsets of length 10\n"
     ]
    }
   ],
   "source": [
    "import sys\n",
    "\n",
    "for k in range(2,20):\n",
    "    cur_freq_itemsets = find_freq_itemsets(favorable_reviews_by_users, freq_itemsets[k-1], min_sup)\n",
    "    freq_itemsets[k] = cur_freq_itemsets\n",
    "    if len(cur_freq_itemsets) == 0:\n",
    "        print(\"Did not find any frequent itemsets of length {}\".format(k))\n",
    "        sys.stdout.flush()\n",
    "        break\n",
    "    else:\n",
    "        print(\"I found {} frequent itemsets of length {}\".format(len(cur_freq_itemsets), k))\n",
    "        sys.stdout.flush()\n",
    "\n",
    "del freq_itemsets[1]    # need length of itemsets to be >= 2 to find association rules"
   ]
  },
  {
   "cell_type": "markdown",
   "metadata": {},
   "source": [
    "**sys.stdout.flush()**, make sure to output the result even though the program is in process since it may not output the results in time in the notebook for long iterations."
   ]
  },
  {
   "cell_type": "code",
   "execution_count": 9,
   "metadata": {},
   "outputs": [],
   "source": [
    "candidate_rules = []\n",
    "for itemset_length, itemset_counts in freq_itemsets.items():\n",
    "    for itemset in itemset_counts.keys():\n",
    "        for conclusion in itemset:\n",
    "            premise = itemset - set((conclusion,))   # set((conclusion,)), transfer it so that it can be set mutable.\n",
    "            candidate_rules.append((premise, conclusion))"
   ]
  },
  {
   "cell_type": "markdown",
   "metadata": {},
   "source": [
    "To recommend one movie once, so all the other in candidate rules will be set as premise."
   ]
  },
  {
   "cell_type": "code",
   "execution_count": 10,
   "metadata": {},
   "outputs": [],
   "source": [
    "def cal_confi(favorable_reviews_by_users):\n",
    "    correct_counts = defaultdict(int)\n",
    "    incorrect_counts = defaultdict(int)\n",
    "\n",
    "    for user, reviews in favorable_reviews_by_users.items():\n",
    "        for candidate_rule in candidate_rules:\n",
    "            premise, conclusion = candidate_rule\n",
    "            if premise.issubset(reviews):\n",
    "                if conclusion in reviews:\n",
    "                    correct_counts[candidate_rule] += 1\n",
    "                else:\n",
    "                    incorrect_counts[candidate_rule] += 1\n",
    "\n",
    "    rule_confi = {candidate_rule: correct_counts[candidate_rule] \n",
    "                  / float(correct_counts[candidate_rule] + incorrect_counts[candidate_rule])\n",
    "                 for candidate_rule in candidate_rules}\n",
    "    return rule_confi\n",
    "\n",
    "rule_confi = cal_confi(favorable_reviews_by_users)"
   ]
  },
  {
   "cell_type": "code",
   "execution_count": 11,
   "metadata": {},
   "outputs": [
    {
     "data": {
      "text/html": [
       "<div>\n",
       "<style scoped>\n",
       "    .dataframe tbody tr th:only-of-type {\n",
       "        vertical-align: middle;\n",
       "    }\n",
       "\n",
       "    .dataframe tbody tr th {\n",
       "        vertical-align: top;\n",
       "    }\n",
       "\n",
       "    .dataframe thead th {\n",
       "        text-align: right;\n",
       "    }\n",
       "</style>\n",
       "<table border=\"1\" class=\"dataframe\">\n",
       "  <thead>\n",
       "    <tr style=\"text-align: right;\">\n",
       "      <th></th>\n",
       "      <th>movieId</th>\n",
       "      <th>title</th>\n",
       "      <th>genres</th>\n",
       "    </tr>\n",
       "  </thead>\n",
       "  <tbody>\n",
       "    <tr>\n",
       "      <th>7982</th>\n",
       "      <td>96691</td>\n",
       "      <td>Resident Evil: Retribution (2012)</td>\n",
       "      <td>Action|Horror|Sci-Fi|IMAX</td>\n",
       "    </tr>\n",
       "    <tr>\n",
       "      <th>5832</th>\n",
       "      <td>32296</td>\n",
       "      <td>Miss Congeniality 2: Armed and Fabulous (2005)</td>\n",
       "      <td>Adventure|Comedy|Crime</td>\n",
       "    </tr>\n",
       "    <tr>\n",
       "      <th>626</th>\n",
       "      <td>798</td>\n",
       "      <td>Daylight (1996)</td>\n",
       "      <td>Action|Adventure|Drama|Thriller</td>\n",
       "    </tr>\n",
       "  </tbody>\n",
       "</table>\n",
       "</div>"
      ],
      "text/plain": [
       "      movieId                                           title  \\\n",
       "7982    96691               Resident Evil: Retribution (2012)   \n",
       "5832    32296  Miss Congeniality 2: Armed and Fabulous (2005)   \n",
       "626       798                                 Daylight (1996)   \n",
       "\n",
       "                               genres  \n",
       "7982        Action|Horror|Sci-Fi|IMAX  \n",
       "5832           Adventure|Comedy|Crime  \n",
       "626   Action|Adventure|Drama|Thriller  "
      ]
     },
     "execution_count": 11,
     "metadata": {},
     "output_type": "execute_result"
    }
   ],
   "source": [
    "movie_names_filename = os.path.join(data_folder, \"movies.csv\")\n",
    "movie_names = pd.read_csv(movie_names_filename)\n",
    "movie_names.sample(3)"
   ]
  },
  {
   "cell_type": "code",
   "execution_count": 54,
   "metadata": {},
   "outputs": [
    {
     "name": "stdout",
     "output_type": "stream",
     "text": [
      "97                                      Braveheart (1995)\n",
      "224             Star Wars: Episode IV - A New Hope (1977)\n",
      "257                                   Pulp Fiction (1994)\n",
      "277                      Shawshank Redemption, The (1994)\n",
      "314                                   Forrest Gump (1994)\n",
      "461                               Schindler's List (1993)\n",
      "510                      Silence of the Lambs, The (1991)\n",
      "898     Star Wars: Episode V - The Empire Strikes Back...\n",
      "900     Raiders of the Lost Ark (Indiana Jones and the...\n",
      "1939                                   Matrix, The (1999)\n",
      "Name: title, dtype: object\n"
     ]
    }
   ],
   "source": [
    "top10_rated_movieId = num_favorable_by_movie.sort_values(by=\"favorable\", ascending=False)[:10].index\n",
    "top10_rated_movies = movie_names.loc[movie_names[\"movieId\"].isin(top10_rated_movieId),\"title\"]\n",
    "print(top10_rated_movies)"
   ]
  },
  {
   "cell_type": "code",
   "execution_count": 21,
   "metadata": {},
   "outputs": [],
   "source": [
    "def get_movie_name(movieId):\n",
    "    return movie_names.loc[movie_names[\"movieId\"] == movieId,\"title\"].values[0]"
   ]
  },
  {
   "cell_type": "code",
   "execution_count": 22,
   "metadata": {},
   "outputs": [
    {
     "name": "stdout",
     "output_type": "stream",
     "text": [
      "Rule #1\n",
      "Rule: If a person recommends Star Wars: Episode IV - A New Hope (1977), Seven (a.k.a. Se7en) (1995), Schindler's List (1993) they will also recommend Matrix, The (1999)\n",
      "- confidence: 1.000\n",
      "\n",
      "Rule #2\n",
      "Rule: If a person recommends American Beauty (1999), Star Wars: Episode IV - A New Hope (1977), Seven (a.k.a. Se7en) (1995) they will also recommend Matrix, The (1999)\n",
      "- confidence: 1.000\n",
      "\n",
      "Rule #3\n",
      "Rule: If a person recommends Forrest Gump (1994), Star Wars: Episode IV - A New Hope (1977), Seven (a.k.a. Se7en) (1995) they will also recommend Matrix, The (1999)\n",
      "- confidence: 1.000\n",
      "\n",
      "Rule #4\n",
      "Rule: If a person recommends Star Wars: Episode VI - Return of the Jedi (1983), Usual Suspects, The (1995), Star Wars: Episode V - The Empire Strikes Back (1980) they will also recommend Star Wars: Episode IV - A New Hope (1977)\n",
      "- confidence: 1.000\n",
      "\n",
      "Rule #5\n",
      "Rule: If a person recommends Star Wars: Episode VI - Return of the Jedi (1983), Matrix, The (1999), Star Wars: Episode V - The Empire Strikes Back (1980) they will also recommend Star Wars: Episode IV - A New Hope (1977)\n",
      "- confidence: 1.000\n",
      "\n"
     ]
    }
   ],
   "source": [
    "from operator import itemgetter\n",
    "\n",
    "def show_rules(rule_confi):\n",
    "    sorted_confi = sorted(rule_confi.items(), key=itemgetter(1), reverse=True)\n",
    "    for index in range(5):\n",
    "        print(\"Rule #{}\".format(index+1))\n",
    "        premise, conclusion = sorted_confi[index][0]\n",
    "        premise_names = \", \".join([get_movie_name(x) for x in premise])\n",
    "        conclusion_name = get_movie_name(conclusion)\n",
    "        print(\"Rule: If a person recommends {0} they will also recommend {1}\".format(premise_names, conclusion_name))\n",
    "        print(\"- confidence: {0:.3f}\\n\".format(rule_confi[(premise, conclusion)]))\n",
    "\n",
    "show_rules(rule_confi)"
   ]
  },
  {
   "cell_type": "code",
   "execution_count": 23,
   "metadata": {},
   "outputs": [],
   "source": [
    "test_ratings = ratings[~ratings[\"userId\"].isin(range(200))]\n",
    "test_favorable = test_ratings[test_ratings[\"favorable\"]]\n",
    "test_favorable_by_users = dict((k, frozenset(v.values)) for k,v in test_favorable.groupby(\"userId\")[\"movieId\"])"
   ]
  },
  {
   "cell_type": "code",
   "execution_count": 24,
   "metadata": {},
   "outputs": [
    {
     "name": "stdout",
     "output_type": "stream",
     "text": [
      "Rule #1\n",
      "Rule: If a person recommends Star Wars: Episode IV - A New Hope (1977), Seven (a.k.a. Se7en) (1995), Schindler's List (1993) they will also recommend Matrix, The (1999)\n",
      "- Train confidence: 1.000\n",
      "\n",
      "- Test confidence: 0.833\n",
      "\n",
      "Rule #2\n",
      "Rule: If a person recommends American Beauty (1999), Star Wars: Episode IV - A New Hope (1977), Seven (a.k.a. Se7en) (1995) they will also recommend Matrix, The (1999)\n",
      "- Train confidence: 1.000\n",
      "\n",
      "- Test confidence: 0.902\n",
      "\n",
      "Rule #3\n",
      "Rule: If a person recommends Forrest Gump (1994), Star Wars: Episode IV - A New Hope (1977), Seven (a.k.a. Se7en) (1995) they will also recommend Matrix, The (1999)\n",
      "- Train confidence: 1.000\n",
      "\n",
      "- Test confidence: 0.927\n",
      "\n",
      "Rule #4\n",
      "Rule: If a person recommends Star Wars: Episode VI - Return of the Jedi (1983), Usual Suspects, The (1995), Star Wars: Episode V - The Empire Strikes Back (1980) they will also recommend Star Wars: Episode IV - A New Hope (1977)\n",
      "- Train confidence: 1.000\n",
      "\n",
      "- Test confidence: 0.955\n",
      "\n",
      "Rule #5\n",
      "Rule: If a person recommends Star Wars: Episode VI - Return of the Jedi (1983), Matrix, The (1999), Star Wars: Episode V - The Empire Strikes Back (1980) they will also recommend Star Wars: Episode IV - A New Hope (1977)\n",
      "- Train confidence: 1.000\n",
      "\n",
      "- Test confidence: 0.929\n",
      "\n"
     ]
    }
   ],
   "source": [
    "test_confi = cal_confi(test_favorable_by_users)\n",
    "\n",
    "def show_test_rules(rule_confi, test_confi):\n",
    "    sorted_confi = sorted(rule_confi.items(), key=itemgetter(1), reverse=True)\n",
    "    for index in range(5):\n",
    "        print(\"Rule #{}\".format(index+1))\n",
    "        premise, conclusion = sorted_confi[index][0]\n",
    "        premise_names = \", \".join([get_movie_name(x) for x in premise])\n",
    "        conclusion_name = get_movie_name(conclusion)\n",
    "        print(\"Rule: If a person recommends {0} they will also recommend {1}\".format(premise_names, conclusion_name))\n",
    "        print(\"- Train confidence: {0:.3f}\\n\".format(rule_confi[(premise, conclusion)]))\n",
    "        print(\"- Test confidence: {0:.3f}\\n\".format(test_confi[(premise, conclusion)]))\n",
    "\n",
    "show_test_rules(rule_confi, test_confi)"
   ]
  },
  {
   "cell_type": "markdown",
   "metadata": {},
   "source": [
    "<p>* Try other evaluating ways...*</p>"
   ]
  },
  {
   "cell_type": "markdown",
   "metadata": {},
   "source": [
    "### Recommender system-collaborative filtering"
   ]
  },
  {
   "cell_type": "code",
   "execution_count": 25,
   "metadata": {},
   "outputs": [],
   "source": [
    "movie_dict = {}\n",
    "for i,v in enumerate(sorted(set(movie_names[\"movieId\"]))):\n",
    "    movie_dict[v] = i"
   ]
  },
  {
   "cell_type": "code",
   "execution_count": 26,
   "metadata": {},
   "outputs": [
    {
     "name": "stdout",
     "output_type": "stream",
     "text": [
      "the number of films in ratings.csv is: 9724\n",
      "the number of films in movies.csv is: 9742\n"
     ]
    }
   ],
   "source": [
    "print(\"the number of films in ratings.csv is: {}\\nthe number of films in movies.csv is: {}\"\\\n",
    "      .format(len(set(ratings[\"movieId\"])),len(set(movie_names[\"movieId\"]))))"
   ]
  },
  {
   "cell_type": "code",
   "execution_count": 27,
   "metadata": {},
   "outputs": [
    {
     "data": {
      "text/plain": [
       "9742"
      ]
     },
     "execution_count": 27,
     "metadata": {},
     "output_type": "execute_result"
    }
   ],
   "source": [
    "len(movie_dict)"
   ]
  },
  {
   "cell_type": "code",
   "execution_count": 28,
   "metadata": {},
   "outputs": [
    {
     "data": {
      "text/html": [
       "<div>\n",
       "<style scoped>\n",
       "    .dataframe tbody tr th:only-of-type {\n",
       "        vertical-align: middle;\n",
       "    }\n",
       "\n",
       "    .dataframe tbody tr th {\n",
       "        vertical-align: top;\n",
       "    }\n",
       "\n",
       "    .dataframe thead th {\n",
       "        text-align: right;\n",
       "    }\n",
       "</style>\n",
       "<table border=\"1\" class=\"dataframe\">\n",
       "  <thead>\n",
       "    <tr style=\"text-align: right;\">\n",
       "      <th></th>\n",
       "      <th>userId</th>\n",
       "      <th>movieId</th>\n",
       "      <th>rating</th>\n",
       "      <th>timestamp</th>\n",
       "      <th>favorable</th>\n",
       "      <th>movieNum</th>\n",
       "    </tr>\n",
       "  </thead>\n",
       "  <tbody>\n",
       "    <tr>\n",
       "      <th>0</th>\n",
       "      <td>1</td>\n",
       "      <td>1</td>\n",
       "      <td>4.0</td>\n",
       "      <td>2000-07-30 18:45:03</td>\n",
       "      <td>True</td>\n",
       "      <td>0</td>\n",
       "    </tr>\n",
       "    <tr>\n",
       "      <th>1</th>\n",
       "      <td>1</td>\n",
       "      <td>3</td>\n",
       "      <td>4.0</td>\n",
       "      <td>2000-07-30 18:20:47</td>\n",
       "      <td>True</td>\n",
       "      <td>2</td>\n",
       "    </tr>\n",
       "    <tr>\n",
       "      <th>2</th>\n",
       "      <td>1</td>\n",
       "      <td>6</td>\n",
       "      <td>4.0</td>\n",
       "      <td>2000-07-30 18:37:04</td>\n",
       "      <td>True</td>\n",
       "      <td>5</td>\n",
       "    </tr>\n",
       "    <tr>\n",
       "      <th>3</th>\n",
       "      <td>1</td>\n",
       "      <td>47</td>\n",
       "      <td>5.0</td>\n",
       "      <td>2000-07-30 19:03:35</td>\n",
       "      <td>True</td>\n",
       "      <td>43</td>\n",
       "    </tr>\n",
       "    <tr>\n",
       "      <th>4</th>\n",
       "      <td>1</td>\n",
       "      <td>50</td>\n",
       "      <td>5.0</td>\n",
       "      <td>2000-07-30 18:48:51</td>\n",
       "      <td>True</td>\n",
       "      <td>46</td>\n",
       "    </tr>\n",
       "  </tbody>\n",
       "</table>\n",
       "</div>"
      ],
      "text/plain": [
       "   userId  movieId  rating           timestamp  favorable  movieNum\n",
       "0       1        1     4.0 2000-07-30 18:45:03       True         0\n",
       "1       1        3     4.0 2000-07-30 18:20:47       True         2\n",
       "2       1        6     4.0 2000-07-30 18:37:04       True         5\n",
       "3       1       47     5.0 2000-07-30 19:03:35       True        43\n",
       "4       1       50     5.0 2000-07-30 18:48:51       True        46"
      ]
     },
     "execution_count": 28,
     "metadata": {},
     "output_type": "execute_result"
    }
   ],
   "source": [
    "cf_ratings = ratings.copy()\n",
    "cf_ratings[\"movieNum\"] = cf_ratings[\"movieId\"].map(movie_dict)\n",
    "cf_ratings[:5]"
   ]
  },
  {
   "cell_type": "code",
   "execution_count": 29,
   "metadata": {},
   "outputs": [],
   "source": [
    "m = len(movie_names)   # the num of movies is 9742\n",
    "n = len(set(ratings[\"userId\"]))   # the num of users is 610\n",
    "\n",
    "rating_matrix = np.zeros((m,n))\n",
    "map_matrix = np.zeros((m,n))\n",
    "for i in range(len(cf_ratings)):\n",
    "    rating_matrix[cf_ratings.loc[i,\"movieNum\"], cf_ratings.loc[i,\"userId\"]-1] = cf_ratings.loc[i,\"rating\"]\n",
    "    map_matrix[cf_ratings.loc[i,\"movieNum\"], cf_ratings.loc[i,\"userId\"]-1] = 1"
   ]
  },
  {
   "cell_type": "code",
   "execution_count": 30,
   "metadata": {},
   "outputs": [
    {
     "data": {
      "text/plain": [
       "array([[4., 0., 0., 0., 4., 0.],\n",
       "       [0., 0., 0., 0., 0., 4.],\n",
       "       [4., 0., 0., 0., 0., 5.],\n",
       "       [0., 0., 0., 0., 0., 3.],\n",
       "       [0., 0., 0., 0., 0., 5.]])"
      ]
     },
     "execution_count": 30,
     "metadata": {},
     "output_type": "execute_result"
    }
   ],
   "source": [
    "rating_matrix[:5,:6]"
   ]
  },
  {
   "cell_type": "code",
   "execution_count": 31,
   "metadata": {},
   "outputs": [
    {
     "data": {
      "text/plain": [
       "array([[1., 0., 0., 0., 1., 0.],\n",
       "       [0., 0., 0., 0., 0., 1.],\n",
       "       [1., 0., 0., 0., 0., 1.],\n",
       "       [0., 0., 0., 0., 0., 1.],\n",
       "       [0., 0., 0., 0., 0., 1.]])"
      ]
     },
     "execution_count": 31,
     "metadata": {},
     "output_type": "execute_result"
    }
   ],
   "source": [
    "map_matrix[:5,:6]"
   ]
  },
  {
   "cell_type": "code",
   "execution_count": 32,
   "metadata": {},
   "outputs": [
    {
     "data": {
      "text/plain": [
       "((9742, 50), (610, 50))"
      ]
     },
     "execution_count": 32,
     "metadata": {},
     "output_type": "execute_result"
    }
   ],
   "source": [
    "k = 50   # set the num of features to be 50\n",
    "X = np.random.standard_normal((m, k))\n",
    "theta = np.random.standard_normal((n, k))\n",
    "\n",
    "X.shape, theta.shape"
   ]
  },
  {
   "cell_type": "code",
   "execution_count": 33,
   "metadata": {},
   "outputs": [],
   "source": [
    "def serialize(X, theta):\n",
    "    \"\"\"serialize 2 matrix\n",
    "    \"\"\"\n",
    "    # X (movie, feature), (9742, 10): movie features\n",
    "    # theta (user, feature), (610, 10): user preference\n",
    "    return np.concatenate((X.ravel(), theta.ravel()))"
   ]
  },
  {
   "cell_type": "code",
   "execution_count": 34,
   "metadata": {},
   "outputs": [],
   "source": [
    "def deserialize(param, n_movie, n_user, n_features):\n",
    "    \"\"\"into ndarray of X(9742, 10), theta(610, 10)\"\"\"\n",
    "    X = param[:n_movie * n_features].reshape(n_movie, n_features)\n",
    "    theta = param[n_movie * n_features:].reshape(n_user, n_features)\n",
    "    return X, theta"
   ]
  },
  {
   "cell_type": "code",
   "execution_count": 35,
   "metadata": {},
   "outputs": [],
   "source": [
    "def cost_func(param, Y, R, n_features, lda=1):\n",
    "    n_movie, n_user = Y.shape\n",
    "    X, theta = deserialize(param, n_movie, n_user, n_features)\n",
    "    inner = np.multiply(X @ theta.T - Y, R)\n",
    "    \n",
    "    reg_term = np.power(param, 2).sum() * (lda / 2)\n",
    "    \n",
    "    return np.power(inner, 2).sum() / 2 + reg_term"
   ]
  },
  {
   "cell_type": "code",
   "execution_count": 36,
   "metadata": {},
   "outputs": [],
   "source": [
    "def gradient(param, Y, R, n_features, lda=1):\n",
    "    n_movies, n_user = Y.shape\n",
    "    X, theta = deserialize(param, n_movies, n_user, n_features)\n",
    "\n",
    "    inner = np.multiply(X @ theta.T - Y, R)\n",
    "    X_grad = inner @ theta\n",
    "    theta_grad = inner.T @ X\n",
    "\n",
    "    reg_term = lda * param\n",
    "\n",
    "    # roll them together and return\n",
    "    return serialize(X_grad, theta_grad) + reg_term"
   ]
  },
  {
   "cell_type": "code",
   "execution_count": 37,
   "metadata": {},
   "outputs": [],
   "source": [
    "param = serialize(X, theta)\n",
    "\n",
    "X_grad, theta_grad = deserialize(gradient(param, rating_matrix, map_matrix, k, 1),m, n, k)\n",
    "\n",
    "assert X_grad.shape == X.shape\n",
    "assert theta_grad.shape == theta.shape"
   ]
  },
  {
   "cell_type": "code",
   "execution_count": 38,
   "metadata": {},
   "outputs": [
    {
     "data": {
      "text/plain": [
       "3452165.211108999"
      ]
     },
     "execution_count": 38,
     "metadata": {},
     "output_type": "execute_result"
    }
   ],
   "source": [
    "cost_func(param, rating_matrix, map_matrix, k, 1)"
   ]
  },
  {
   "cell_type": "code",
   "execution_count": 39,
   "metadata": {},
   "outputs": [],
   "source": [
    "rating_mean = np.repeat(rating_matrix.mean(1),n).reshape(m,n)\n",
    "rating_norm = rating_matrix - rating_mean"
   ]
  },
  {
   "cell_type": "code",
   "execution_count": 40,
   "metadata": {},
   "outputs": [],
   "source": [
    "import scipy.optimize as opt"
   ]
  },
  {
   "cell_type": "code",
   "execution_count": 41,
   "metadata": {},
   "outputs": [],
   "source": [
    "res = opt.minimize(fun=cost_func,\n",
    "                   x0=param,\n",
    "                   args=(rating_norm, map_matrix, k, 1),\n",
    "                   method='TNC',\n",
    "                   jac=gradient)"
   ]
  },
  {
   "cell_type": "code",
   "execution_count": 51,
   "metadata": {},
   "outputs": [
    {
     "data": {
      "text/plain": [
       "25747.721621011682"
      ]
     },
     "execution_count": 51,
     "metadata": {},
     "output_type": "execute_result"
    }
   ],
   "source": [
    "cost_func(res.x, rating_matrix, map_matrix, k, 1)"
   ]
  },
  {
   "cell_type": "code",
   "execution_count": 42,
   "metadata": {},
   "outputs": [
    {
     "data": {
      "text/plain": [
       "((9742, 50), (610, 50))"
      ]
     },
     "execution_count": 42,
     "metadata": {},
     "output_type": "execute_result"
    }
   ],
   "source": [
    "X_trained, theta_trained = deserialize(res.x, m, n, k)\n",
    "X_trained.shape, theta_trained.shape"
   ]
  },
  {
   "cell_type": "code",
   "execution_count": 43,
   "metadata": {},
   "outputs": [],
   "source": [
    "prediction = X_trained @ theta_trained.T\n",
    "pred_ratings = prediction + rating_mean"
   ]
  },
  {
   "cell_type": "code",
   "execution_count": 44,
   "metadata": {},
   "outputs": [
    {
     "name": "stdout",
     "output_type": "stream",
     "text": [
      "5.0 2.301639344262295 11.456723710516174 13.758363054778469\n"
     ]
    }
   ],
   "source": [
    "print(np.amax(rating_matrix), np.amax(rating_mean),np.amax(prediction),np.amax(pred_ratings))"
   ]
  },
  {
   "cell_type": "code",
   "execution_count": 45,
   "metadata": {},
   "outputs": [],
   "source": [
    "def get_movie_name_movieNum():\n",
    "    movieNum_name = {}\n",
    "    for i in range(m):     \n",
    "        movieId = list(movie_dict.keys())[list(movie_dict.values()).index(i)]\n",
    "        movieNum_name[i] = get_movie_name(movieId)\n",
    "    return movieNum_name\n",
    "\n",
    "movieNum_name = get_movie_name_movieNum()"
   ]
  },
  {
   "cell_type": "code",
   "execution_count": 46,
   "metadata": {},
   "outputs": [
    {
     "data": {
      "text/plain": [
       "'Toy Story (1995)'"
      ]
     },
     "execution_count": 46,
     "metadata": {},
     "output_type": "execute_result"
    }
   ],
   "source": [
    "movieNum_name[0]"
   ]
  },
  {
   "cell_type": "code",
   "execution_count": 47,
   "metadata": {},
   "outputs": [],
   "source": [
    "rated_movies_user = dict((k, frozenset(v.values))    # store v.values in frozenset\n",
    "                                 for k,v in cf_ratings.groupby(\"userId\")[\"movieNum\"])"
   ]
  },
  {
   "cell_type": "code",
   "execution_count": 48,
   "metadata": {},
   "outputs": [
    {
     "name": "stdout",
     "output_type": "stream",
     "text": [
      "Recommend#1: Mars Attacks! (1996), the predicted rating is 9\n",
      "Recommend#2: Clerks (1994), the predicted rating is 9\n",
      "Recommend#3: GoldenEye (1995), the predicted rating is 8\n",
      "Recommend#4: Good Will Hunting (1997), the predicted rating is 8\n",
      "Recommend#5: Dead Man Walking (1995), the predicted rating is 7\n"
     ]
    }
   ],
   "source": [
    "def get_top_recommendations_by_user(pred_ratings, userId, top=5):\n",
    "    pred_ratings_user = np.c_[np.array(np.arange(m)).T,\\\n",
    "                        np.array(pred_ratings[:,userId-1]).T]   # in pred_ratings, the userId starts from 0\n",
    "    ratings_user_sorted = np.argsort(pred_ratings_user[:,1])[::-1]\n",
    "    top_k = ratings_user_sorted[:top]\n",
    "    movies, top_pred_ratings = [movieNum_name[x] for x in pred_ratings_user[top_k,0]], pred_ratings_user[top_k,1]\n",
    "    i = 1\n",
    "    for mv, rt in zip(movies, top_pred_ratings):\n",
    "        print(\"Recommend#{0}: {1}, the predicted rating is {2:.0f}\".format(i, mv, rt))\n",
    "        i += 1\n",
    "\n",
    "get_top_recommendations_by_user(pred_ratings, 0, top=5)"
   ]
  },
  {
   "cell_type": "code",
   "execution_count": 49,
   "metadata": {},
   "outputs": [],
   "source": [
    "def get_rated_movies_user(userId):\n",
    "    ratings_ = ratings.loc[ratings[\"userId\"]==userId,[\"movieId\",\"rating\"]].sort_values(\"rating\",ascending=False)[:5]\n",
    "    r = 1\n",
    "    for i,s in zip(ratings_[\"movieId\"], ratings_[\"rating\"]):\n",
    "        print(\"Top#{}liked: {}, the rating is {}\".format(r, get_movie_name(i), s))\n",
    "        r += 1"
   ]
  },
  {
   "cell_type": "code",
   "execution_count": 50,
   "metadata": {},
   "outputs": [
    {
     "name": "stdout",
     "output_type": "stream",
     "text": [
      "Top#1liked: M*A*S*H (a.k.a. MASH) (1970), the rating is 5.0\n",
      "Top#2liked: Excalibur (1981), the rating is 5.0\n",
      "Top#3liked: Indiana Jones and the Last Crusade (1989), the rating is 5.0\n",
      "Top#4liked: Pink Floyd: The Wall (1982), the rating is 5.0\n",
      "Top#5liked: From Russia with Love (1963), the rating is 5.0\n"
     ]
    }
   ],
   "source": [
    "get_rated_movies_user(1)"
   ]
  },
  {
   "cell_type": "code",
   "execution_count": 153,
   "metadata": {},
   "outputs": [
    {
     "data": {
      "text/html": [
       "<div>\n",
       "<style scoped>\n",
       "    .dataframe tbody tr th:only-of-type {\n",
       "        vertical-align: middle;\n",
       "    }\n",
       "\n",
       "    .dataframe tbody tr th {\n",
       "        vertical-align: top;\n",
       "    }\n",
       "\n",
       "    .dataframe thead th {\n",
       "        text-align: right;\n",
       "    }\n",
       "</style>\n",
       "<table border=\"1\" class=\"dataframe\">\n",
       "  <thead>\n",
       "    <tr style=\"text-align: right;\">\n",
       "      <th></th>\n",
       "      <th>movieId</th>\n",
       "      <th>rating</th>\n",
       "    </tr>\n",
       "  </thead>\n",
       "  <tbody>\n",
       "    <tr>\n",
       "      <th>0</th>\n",
       "      <td>1</td>\n",
       "      <td>4</td>\n",
       "    </tr>\n",
       "    <tr>\n",
       "      <th>1</th>\n",
       "      <td>21</td>\n",
       "      <td>4</td>\n",
       "    </tr>\n",
       "    <tr>\n",
       "      <th>2</th>\n",
       "      <td>34</td>\n",
       "      <td>4</td>\n",
       "    </tr>\n",
       "    <tr>\n",
       "      <th>3</th>\n",
       "      <td>36</td>\n",
       "      <td>4</td>\n",
       "    </tr>\n",
       "    <tr>\n",
       "      <th>4</th>\n",
       "      <td>39</td>\n",
       "      <td>5</td>\n",
       "    </tr>\n",
       "    <tr>\n",
       "      <th>5</th>\n",
       "      <td>50</td>\n",
       "      <td>4</td>\n",
       "    </tr>\n",
       "    <tr>\n",
       "      <th>6</th>\n",
       "      <td>58</td>\n",
       "      <td>5</td>\n",
       "    </tr>\n",
       "    <tr>\n",
       "      <th>7</th>\n",
       "      <td>261</td>\n",
       "      <td>4</td>\n",
       "    </tr>\n",
       "    <tr>\n",
       "      <th>8</th>\n",
       "      <td>357</td>\n",
       "      <td>2</td>\n",
       "    </tr>\n",
       "    <tr>\n",
       "      <th>9</th>\n",
       "      <td>597</td>\n",
       "      <td>3</td>\n",
       "    </tr>\n",
       "  </tbody>\n",
       "</table>\n",
       "</div>"
      ],
      "text/plain": [
       "   movieId  rating\n",
       "0        1       4\n",
       "1       21       4\n",
       "2       34       4\n",
       "3       36       4\n",
       "4       39       5\n",
       "5       50       4\n",
       "6       58       5\n",
       "7      261       4\n",
       "8      357       2\n",
       "9      597       3"
      ]
     },
     "execution_count": 153,
     "metadata": {},
     "output_type": "execute_result"
    }
   ],
   "source": [
    "sample_test = dict([(1,4),(21,4),(34,4),(36,4),(39,5),(50,4),(58,5),(261,4),(357,2),(597,3)])\n",
    "sample_df = pd.DataFrame({\"movieId\":[x for x in sample_test.keys()],\"rating\":[v for v in sample_test.values()]})\n",
    "sample_df"
   ]
  },
  {
   "cell_type": "code",
   "execution_count": 58,
   "metadata": {},
   "outputs": [],
   "source": [
    "rated_movieId_user = dict((k, frozenset(v.values))    # store v.values in frozenset\n",
    "                                 for k,v in ratings.groupby(\"userId\")[\"movieId\"])"
   ]
  },
  {
   "cell_type": "code",
   "execution_count": 147,
   "metadata": {},
   "outputs": [],
   "source": [
    "def euclidean_score(sample_data, user):\n",
    "    common_rated = []\n",
    "    for i in sample_data.movieId:\n",
    "        if i in rated_movieId_user[user]:\n",
    "            common_rated.append(i)\n",
    "    \n",
    "    if len(common_rated) == 0:\n",
    "        return 0\n",
    "    \n",
    "    squared_differences = []\n",
    "    for mid in common_rated:\n",
    "        squared_differences.append(np.square(sample_data.loc[sample_data.movieId==mid,\"rating\"].values[0] - \\\n",
    "                                            ratings.loc[(ratings.userId==user) & \\\n",
    "                                                        (ratings.movieId==mid),\"rating\"].values[0]))\n",
    "    return 1 / (1 + np.sqrt(np.sum(squared_differences)))"
   ]
  },
  {
   "cell_type": "code",
   "execution_count": 154,
   "metadata": {},
   "outputs": [
    {
     "data": {
      "text/plain": [
       "0.3333333333333333"
      ]
     },
     "execution_count": 154,
     "metadata": {},
     "output_type": "execute_result"
    }
   ],
   "source": [
    "euclidean_score(sample_df,5)"
   ]
  },
  {
   "cell_type": "code",
   "execution_count": 160,
   "metadata": {},
   "outputs": [
    {
     "data": {
      "text/plain": [
       "0.5"
      ]
     },
     "execution_count": 160,
     "metadata": {},
     "output_type": "execute_result"
    }
   ],
   "source": [
    "euclidean_score(sample_df,1)"
   ]
  },
  {
   "cell_type": "code",
   "execution_count": 162,
   "metadata": {},
   "outputs": [
    {
     "data": {
      "text/plain": [
       "0.20521309615767264"
      ]
     },
     "execution_count": 162,
     "metadata": {},
     "output_type": "execute_result"
    }
   ],
   "source": [
    "euclidean_score(sample_df,8)"
   ]
  },
  {
   "cell_type": "code",
   "execution_count": 158,
   "metadata": {
    "collapsed": true
   },
   "outputs": [
    {
     "data": {
      "text/plain": [
       "defaultdict(int,\n",
       "            {1: 0,\n",
       "             2: 0,\n",
       "             3: 0,\n",
       "             4: 0,\n",
       "             5: 0,\n",
       "             6: 0,\n",
       "             7: 0,\n",
       "             8: 0,\n",
       "             9: 0,\n",
       "             10: 0,\n",
       "             11: 0,\n",
       "             12: 0,\n",
       "             13: 0,\n",
       "             14: 0,\n",
       "             15: 0,\n",
       "             16: 0,\n",
       "             17: 0,\n",
       "             18: 0,\n",
       "             19: 0,\n",
       "             20: 0,\n",
       "             21: 0,\n",
       "             22: 0,\n",
       "             23: 0,\n",
       "             24: 0,\n",
       "             25: 0,\n",
       "             26: 0,\n",
       "             27: 0,\n",
       "             28: 0,\n",
       "             29: 0,\n",
       "             30: 0,\n",
       "             31: 0,\n",
       "             32: 0,\n",
       "             33: 0,\n",
       "             34: 0,\n",
       "             35: 0,\n",
       "             36: 0,\n",
       "             37: 0,\n",
       "             38: 0,\n",
       "             39: 0,\n",
       "             40: 0,\n",
       "             41: 0,\n",
       "             42: 0,\n",
       "             43: 0,\n",
       "             44: 0,\n",
       "             45: 0,\n",
       "             46: 0,\n",
       "             47: 0,\n",
       "             48: 0,\n",
       "             49: 0,\n",
       "             50: 0,\n",
       "             51: 0,\n",
       "             52: 0,\n",
       "             53: 0,\n",
       "             54: 0,\n",
       "             55: 0,\n",
       "             56: 0,\n",
       "             57: 0,\n",
       "             58: 0,\n",
       "             59: 0,\n",
       "             60: 0,\n",
       "             61: 0,\n",
       "             62: 0,\n",
       "             63: 0,\n",
       "             64: 0,\n",
       "             65: 0,\n",
       "             66: 0,\n",
       "             67: 0,\n",
       "             68: 0,\n",
       "             69: 0,\n",
       "             70: 0,\n",
       "             71: 0,\n",
       "             72: 0,\n",
       "             73: 0,\n",
       "             74: 0,\n",
       "             75: 0,\n",
       "             76: 0,\n",
       "             77: 0,\n",
       "             78: 0,\n",
       "             79: 0,\n",
       "             80: 0,\n",
       "             81: 0,\n",
       "             82: 0,\n",
       "             83: 0,\n",
       "             84: 0,\n",
       "             85: 0,\n",
       "             86: 0,\n",
       "             87: 0,\n",
       "             88: 0,\n",
       "             89: 0,\n",
       "             90: 0,\n",
       "             91: 0,\n",
       "             92: 0,\n",
       "             93: 0,\n",
       "             94: 0,\n",
       "             95: 0,\n",
       "             96: 0,\n",
       "             97: 0,\n",
       "             98: 0,\n",
       "             99: 0,\n",
       "             100: 0,\n",
       "             101: 0,\n",
       "             102: 0,\n",
       "             103: 0,\n",
       "             104: 0,\n",
       "             105: 0,\n",
       "             106: 0,\n",
       "             107: 0,\n",
       "             108: 0,\n",
       "             109: 0,\n",
       "             110: 0,\n",
       "             111: 0,\n",
       "             112: 0,\n",
       "             113: 0,\n",
       "             114: 0,\n",
       "             115: 0,\n",
       "             116: 0,\n",
       "             117: 0,\n",
       "             118: 0,\n",
       "             119: 0,\n",
       "             120: 0,\n",
       "             121: 0,\n",
       "             122: 0,\n",
       "             123: 0,\n",
       "             124: 0,\n",
       "             125: 0,\n",
       "             126: 0,\n",
       "             127: 0,\n",
       "             128: 0,\n",
       "             129: 0,\n",
       "             130: 0,\n",
       "             131: 0,\n",
       "             132: 0,\n",
       "             133: 0,\n",
       "             134: 0,\n",
       "             135: 0,\n",
       "             136: 0,\n",
       "             137: 0,\n",
       "             138: 0,\n",
       "             139: 0,\n",
       "             140: 0,\n",
       "             141: 0,\n",
       "             142: 0,\n",
       "             143: 0,\n",
       "             144: 0,\n",
       "             145: 0,\n",
       "             146: 0,\n",
       "             147: 0,\n",
       "             148: 0,\n",
       "             149: 0,\n",
       "             150: 0,\n",
       "             151: 0,\n",
       "             152: 0,\n",
       "             153: 0,\n",
       "             154: 0,\n",
       "             155: 0,\n",
       "             156: 0,\n",
       "             157: 0,\n",
       "             158: 0,\n",
       "             159: 0,\n",
       "             160: 0,\n",
       "             161: 0,\n",
       "             162: 0,\n",
       "             163: 0,\n",
       "             164: 0,\n",
       "             165: 0,\n",
       "             166: 0,\n",
       "             167: 0,\n",
       "             168: 0,\n",
       "             169: 0,\n",
       "             170: 0,\n",
       "             171: 0,\n",
       "             172: 0,\n",
       "             173: 0,\n",
       "             174: 0,\n",
       "             175: 0,\n",
       "             176: 0,\n",
       "             177: 0,\n",
       "             178: 0,\n",
       "             179: 0,\n",
       "             180: 0,\n",
       "             181: 0,\n",
       "             182: 0,\n",
       "             183: 0,\n",
       "             184: 0,\n",
       "             185: 0,\n",
       "             186: 0,\n",
       "             187: 0,\n",
       "             188: 0,\n",
       "             189: 0,\n",
       "             190: 0,\n",
       "             191: 0,\n",
       "             192: 0,\n",
       "             193: 0,\n",
       "             194: 0,\n",
       "             195: 0,\n",
       "             196: 0,\n",
       "             197: 0,\n",
       "             198: 0,\n",
       "             199: 0,\n",
       "             200: 0,\n",
       "             201: 0,\n",
       "             202: 0,\n",
       "             203: 0,\n",
       "             204: 0,\n",
       "             205: 0,\n",
       "             206: 0,\n",
       "             207: 0,\n",
       "             208: 0,\n",
       "             209: 0,\n",
       "             210: 0,\n",
       "             211: 0,\n",
       "             212: 0,\n",
       "             213: 0,\n",
       "             214: 0,\n",
       "             215: 0,\n",
       "             216: 0,\n",
       "             217: 0,\n",
       "             218: 0,\n",
       "             219: 0,\n",
       "             220: 0,\n",
       "             221: 0,\n",
       "             222: 0,\n",
       "             223: 0,\n",
       "             224: 0,\n",
       "             225: 0,\n",
       "             226: 0,\n",
       "             227: 0,\n",
       "             228: 0,\n",
       "             229: 0,\n",
       "             230: 0,\n",
       "             231: 0,\n",
       "             232: 0,\n",
       "             233: 0,\n",
       "             234: 0,\n",
       "             235: 0,\n",
       "             236: 0,\n",
       "             237: 0,\n",
       "             238: 0,\n",
       "             239: 0,\n",
       "             240: 0,\n",
       "             241: 0,\n",
       "             242: 0,\n",
       "             243: 0,\n",
       "             244: 0,\n",
       "             245: 0,\n",
       "             246: 0,\n",
       "             247: 0,\n",
       "             248: 0,\n",
       "             249: 0,\n",
       "             250: 0,\n",
       "             251: 0,\n",
       "             252: 0,\n",
       "             253: 0,\n",
       "             254: 0,\n",
       "             255: 0,\n",
       "             256: 0,\n",
       "             257: 0,\n",
       "             258: 0,\n",
       "             259: 0,\n",
       "             260: 0,\n",
       "             261: 0,\n",
       "             262: 0,\n",
       "             263: 0,\n",
       "             264: 0,\n",
       "             265: 0,\n",
       "             266: 0,\n",
       "             267: 0,\n",
       "             268: 0,\n",
       "             269: 0,\n",
       "             270: 0,\n",
       "             271: 0,\n",
       "             272: 0,\n",
       "             273: 0,\n",
       "             274: 0,\n",
       "             275: 0,\n",
       "             276: 0,\n",
       "             277: 0,\n",
       "             278: 0,\n",
       "             279: 0,\n",
       "             280: 0,\n",
       "             281: 0,\n",
       "             282: 0,\n",
       "             283: 0,\n",
       "             284: 0,\n",
       "             285: 0,\n",
       "             286: 0,\n",
       "             287: 0,\n",
       "             288: 0,\n",
       "             289: 0,\n",
       "             290: 0,\n",
       "             291: 0,\n",
       "             292: 0,\n",
       "             293: 0,\n",
       "             294: 0,\n",
       "             295: 0,\n",
       "             296: 0,\n",
       "             297: 0,\n",
       "             298: 0,\n",
       "             299: 0,\n",
       "             300: 0,\n",
       "             301: 0,\n",
       "             302: 0,\n",
       "             303: 0,\n",
       "             304: 0,\n",
       "             305: 0,\n",
       "             306: 0,\n",
       "             307: 0,\n",
       "             308: 0,\n",
       "             309: 0,\n",
       "             310: 0,\n",
       "             311: 0,\n",
       "             312: 0,\n",
       "             313: 0,\n",
       "             314: 0,\n",
       "             315: 0,\n",
       "             316: 0,\n",
       "             317: 0,\n",
       "             318: 0,\n",
       "             319: 0,\n",
       "             320: 0,\n",
       "             321: 0,\n",
       "             322: 0,\n",
       "             323: 0,\n",
       "             324: 0,\n",
       "             325: 0,\n",
       "             326: 0,\n",
       "             327: 0,\n",
       "             328: 0,\n",
       "             329: 0,\n",
       "             330: 0,\n",
       "             331: 0,\n",
       "             332: 0,\n",
       "             333: 0,\n",
       "             334: 0,\n",
       "             335: 0,\n",
       "             336: 0,\n",
       "             337: 0,\n",
       "             338: 0,\n",
       "             339: 0,\n",
       "             340: 0,\n",
       "             341: 0,\n",
       "             342: 0,\n",
       "             343: 0,\n",
       "             344: 0,\n",
       "             345: 0,\n",
       "             346: 0,\n",
       "             347: 0,\n",
       "             348: 0,\n",
       "             349: 0,\n",
       "             350: 0,\n",
       "             351: 0,\n",
       "             352: 0,\n",
       "             353: 0,\n",
       "             354: 0,\n",
       "             355: 0,\n",
       "             356: 0,\n",
       "             357: 0,\n",
       "             358: 0,\n",
       "             359: 0,\n",
       "             360: 0,\n",
       "             361: 0,\n",
       "             362: 0,\n",
       "             363: 0,\n",
       "             364: 0,\n",
       "             365: 0,\n",
       "             366: 0,\n",
       "             367: 0,\n",
       "             368: 0,\n",
       "             369: 0,\n",
       "             370: 0,\n",
       "             371: 0,\n",
       "             372: 0,\n",
       "             373: 0,\n",
       "             374: 0,\n",
       "             375: 0,\n",
       "             376: 0,\n",
       "             377: 0,\n",
       "             378: 0,\n",
       "             379: 0,\n",
       "             380: 0,\n",
       "             381: 0,\n",
       "             382: 0,\n",
       "             383: 0,\n",
       "             384: 0,\n",
       "             385: 0,\n",
       "             386: 0,\n",
       "             387: 0,\n",
       "             388: 0,\n",
       "             389: 0,\n",
       "             390: 0,\n",
       "             391: 0,\n",
       "             392: 0,\n",
       "             393: 0,\n",
       "             394: 0,\n",
       "             395: 0,\n",
       "             396: 0,\n",
       "             397: 0,\n",
       "             398: 0,\n",
       "             399: 0,\n",
       "             400: 0,\n",
       "             401: 0,\n",
       "             402: 0,\n",
       "             403: 0,\n",
       "             404: 0,\n",
       "             405: 0,\n",
       "             406: 0,\n",
       "             407: 0,\n",
       "             408: 0,\n",
       "             409: 0,\n",
       "             410: 0,\n",
       "             411: 0,\n",
       "             412: 0,\n",
       "             413: 0,\n",
       "             414: 0,\n",
       "             415: 0,\n",
       "             416: 0,\n",
       "             417: 0,\n",
       "             418: 0,\n",
       "             419: 0,\n",
       "             420: 0,\n",
       "             421: 0,\n",
       "             422: 0,\n",
       "             423: 0,\n",
       "             424: 0,\n",
       "             425: 0,\n",
       "             426: 0,\n",
       "             427: 0,\n",
       "             428: 0,\n",
       "             429: 0,\n",
       "             430: 0,\n",
       "             431: 0,\n",
       "             432: 0,\n",
       "             433: 0,\n",
       "             434: 0,\n",
       "             435: 0,\n",
       "             436: 0,\n",
       "             437: 0,\n",
       "             438: 0,\n",
       "             439: 0,\n",
       "             440: 0,\n",
       "             441: 0,\n",
       "             442: 0,\n",
       "             443: 0,\n",
       "             444: 0,\n",
       "             445: 0,\n",
       "             446: 0,\n",
       "             447: 0,\n",
       "             448: 0,\n",
       "             449: 0,\n",
       "             450: 0,\n",
       "             451: 0,\n",
       "             452: 0,\n",
       "             453: 0,\n",
       "             454: 0,\n",
       "             455: 0,\n",
       "             456: 0,\n",
       "             457: 0,\n",
       "             458: 0,\n",
       "             459: 0,\n",
       "             460: 0,\n",
       "             461: 0,\n",
       "             462: 0,\n",
       "             463: 0,\n",
       "             464: 0,\n",
       "             465: 0,\n",
       "             466: 0,\n",
       "             467: 0,\n",
       "             468: 0,\n",
       "             469: 0,\n",
       "             470: 0,\n",
       "             471: 0,\n",
       "             472: 0,\n",
       "             473: 0,\n",
       "             474: 0,\n",
       "             475: 0,\n",
       "             476: 0,\n",
       "             477: 0,\n",
       "             478: 0,\n",
       "             479: 0,\n",
       "             480: 0,\n",
       "             481: 0,\n",
       "             482: 0,\n",
       "             483: 0,\n",
       "             484: 0,\n",
       "             485: 0,\n",
       "             486: 0,\n",
       "             487: 0,\n",
       "             488: 0,\n",
       "             489: 0,\n",
       "             490: 0,\n",
       "             491: 0,\n",
       "             492: 0,\n",
       "             493: 0,\n",
       "             494: 0,\n",
       "             495: 0,\n",
       "             496: 0,\n",
       "             497: 0,\n",
       "             498: 0,\n",
       "             499: 0,\n",
       "             500: 0,\n",
       "             501: 0,\n",
       "             502: 0,\n",
       "             503: 0,\n",
       "             504: 0,\n",
       "             505: 0,\n",
       "             506: 0,\n",
       "             507: 0,\n",
       "             508: 0,\n",
       "             509: 0,\n",
       "             510: 0,\n",
       "             511: 0,\n",
       "             512: 0,\n",
       "             513: 0,\n",
       "             514: 0,\n",
       "             515: 0,\n",
       "             516: 0,\n",
       "             517: 0,\n",
       "             518: 0,\n",
       "             519: 0,\n",
       "             520: 0,\n",
       "             521: 0,\n",
       "             522: 0,\n",
       "             523: 0,\n",
       "             524: 0,\n",
       "             525: 0,\n",
       "             526: 0,\n",
       "             527: 0,\n",
       "             528: 0,\n",
       "             529: 0,\n",
       "             530: 0,\n",
       "             531: 0,\n",
       "             532: 0,\n",
       "             533: 0,\n",
       "             534: 0,\n",
       "             535: 0,\n",
       "             536: 0,\n",
       "             537: 0,\n",
       "             538: 0,\n",
       "             539: 0,\n",
       "             540: 0,\n",
       "             541: 0,\n",
       "             542: 0,\n",
       "             543: 0,\n",
       "             544: 0,\n",
       "             545: 0,\n",
       "             546: 0,\n",
       "             547: 0,\n",
       "             548: 0,\n",
       "             549: 0,\n",
       "             550: 0,\n",
       "             551: 0,\n",
       "             552: 0,\n",
       "             553: 0,\n",
       "             554: 0,\n",
       "             555: 0,\n",
       "             556: 0,\n",
       "             557: 0,\n",
       "             558: 0,\n",
       "             559: 0,\n",
       "             560: 0,\n",
       "             561: 0,\n",
       "             562: 0,\n",
       "             563: 0,\n",
       "             564: 0,\n",
       "             565: 0,\n",
       "             566: 0,\n",
       "             567: 0,\n",
       "             568: 0,\n",
       "             569: 0,\n",
       "             570: 0,\n",
       "             571: 0,\n",
       "             572: 0,\n",
       "             573: 0,\n",
       "             574: 0,\n",
       "             575: 0,\n",
       "             576: 0,\n",
       "             577: 0,\n",
       "             578: 0,\n",
       "             579: 0,\n",
       "             580: 0,\n",
       "             581: 0,\n",
       "             582: 0,\n",
       "             583: 0,\n",
       "             584: 0,\n",
       "             585: 0,\n",
       "             586: 0,\n",
       "             587: 0,\n",
       "             588: 0,\n",
       "             589: 0,\n",
       "             590: 0,\n",
       "             591: 0,\n",
       "             592: 0,\n",
       "             593: 0,\n",
       "             594: 0,\n",
       "             595: 0,\n",
       "             596: 0,\n",
       "             597: 0,\n",
       "             598: 0,\n",
       "             599: 0,\n",
       "             600: 0,\n",
       "             601: 0,\n",
       "             602: 0,\n",
       "             603: 0,\n",
       "             604: 0,\n",
       "             605: 0,\n",
       "             606: 0,\n",
       "             607: 0,\n",
       "             608: 0,\n",
       "             609: 0,\n",
       "             610: 0})"
      ]
     },
     "execution_count": 158,
     "metadata": {},
     "output_type": "execute_result"
    }
   ],
   "source": [
    "similarity_scores = defaultdict(int)\n",
    "for i in range(n):\n",
    "    {similarity_scores[i+1]: euclidean_score(sample_df, i+1) for i in range(n)}\n",
    "similarity_scores"
   ]
  },
  {
   "cell_type": "code",
   "execution_count": 159,
   "metadata": {},
   "outputs": [
    {
     "data": {
      "text/plain": [
       "1"
      ]
     },
     "execution_count": 159,
     "metadata": {},
     "output_type": "execute_result"
    }
   ],
   "source": [
    "sorted_similarity_scores = sorted(similarity_scores.items(),key=itemgetter(1),reverse=True)\n",
    "sorted_similarity_scores[0][0]"
   ]
  },
  {
   "cell_type": "code",
   "execution_count": 151,
   "metadata": {},
   "outputs": [],
   "source": [
    "def find_most_similar_user(sample_data):\n",
    "    similarity_scores = defaultdict(int)\n",
    "    for i in range(n):\n",
    "        {similarity_scores[i+1]: euclidean_score(sample_data, i+1) for i in range(n)}\n",
    "    sorted_similarity_scores = sorted(similarity_scores.items(),key=itemgetter(1),reverse=True)\n",
    "    return sorted_similarity_scores[0][0]    "
   ]
  },
  {
   "cell_type": "code",
   "execution_count": 152,
   "metadata": {},
   "outputs": [
    {
     "data": {
      "text/plain": [
       "0"
      ]
     },
     "execution_count": 152,
     "metadata": {},
     "output_type": "execute_result"
    }
   ],
   "source": [
    "find_most_similar_user(sample_df)"
   ]
  },
  {
   "cell_type": "code",
   "execution_count": 163,
   "metadata": {},
   "outputs": [
    {
     "name": "stdout",
     "output_type": "stream",
     "text": [
      "Recommend#1: Shawshank Redemption, The (1994), the predicted rating is 9\n",
      "Recommend#2: Shakespeare in Love (1998), the predicted rating is 7\n",
      "Recommend#3: Departed, The (2006), the predicted rating is 7\n",
      "Recommend#4: Cool Hand Luke (1967), the predicted rating is 7\n",
      "Recommend#5: Godfather: Part II, The (1974), the predicted rating is 7\n"
     ]
    }
   ],
   "source": [
    "get_top_recommendations_by_user(pred_ratings, 1, top=5)"
   ]
  },
  {
   "cell_type": "code",
   "execution_count": null,
   "metadata": {
    "collapsed": true
   },
   "outputs": [],
   "source": []
  }
 ],
 "metadata": {
  "kernelspec": {
   "display_name": "Python 3",
   "language": "python",
   "name": "python3"
  },
  "language_info": {
   "codemirror_mode": {
    "name": "ipython",
    "version": 3
   },
   "file_extension": ".py",
   "mimetype": "text/x-python",
   "name": "python",
   "nbconvert_exporter": "python",
   "pygments_lexer": "ipython3",
   "version": "3.6.4"
  }
 },
 "nbformat": 4,
 "nbformat_minor": 2
}
